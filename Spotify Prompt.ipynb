{
 "cells": [
  {
   "cell_type": "code",
   "execution_count": null,
   "id": "39d7ac80",
   "metadata": {},
   "outputs": [],
   "source": [
    "import openai"
   ]
  },
  {
   "cell_type": "code",
   "execution_count": null,
   "id": "47e44b55",
   "metadata": {},
   "outputs": [],
   "source": [
    "import json"
   ]
  },
  {
   "cell_type": "code",
   "execution_count": null,
   "id": "96de38cc",
   "metadata": {},
   "outputs": [],
   "source": [
    "from dotenv import dotenv_values"
   ]
  },
  {
   "cell_type": "code",
   "execution_count": null,
   "id": "3b630436",
   "metadata": {},
   "outputs": [],
   "source": [
    "config = dotenv_values(\".env\")"
   ]
  },
  {
   "cell_type": "code",
   "execution_count": null,
   "id": "b3cb65c7",
   "metadata": {},
   "outputs": [],
   "source": [
    "openai.api_key = config[\"OPENAI_API_KEY\"]"
   ]
  },
  {
   "cell_type": "code",
   "execution_count": null,
   "id": "373b4637",
   "metadata": {},
   "outputs": [],
   "source": [
    "example_json = \"\"\"\n",
    "[\n",
    "  {\"song\": \"Everybody Hurts\", \"artist\": \"R.E.M.\"},\n",
    "  {\"song\": \"Nothing Compares 2 U\", \"artist\": \"Sinead O'Connor\"},\n",
    "  {\"song\": \"Tears in Heaven\", \"artist\": \"Eric Clapton\"},\n",
    "  {\"song\": \"Hurt\", \"artist\": \"Johnny Cash\"},\n",
    "  {\"song\": \"Yesterday\", \"artist\": \"The Beatles\"}\n",
    "]\n",
    "\"\"\"\n",
    "messages = [\n",
    "    {\n",
    "        \"role\": \"system\",\n",
    "        \"content\": \"\"\"You are a helpful playlist generating assistant.\n",
    "    You should generate a list of songs and their artists according to a text prompt.\n",
    "    Your should return a JSON array, where each element follows this format: {\"song\": <song_title>, \"artist\": <artist_name>}\n",
    "    \"\"\",\n",
    "    },\n",
    "    {\n",
    "        \"role\": \"user\",\n",
    "        \"content\": \"Generate a playlist of songs based on this prompt: super super sad songs\",\n",
    "    },\n",
    "    {\"role\": \"assistant\", \"content\": example_json},\n",
    "    {\n",
    "        \"role\": \"user\",\n",
    "        \"content\": \"Generate a playlist of songs based on this prompt: high energy exciting dance songs\",\n",
    "    },\n",
    "]\n",
    "\n",
    "response = openai.chat.completions.create(\n",
    "    messages=messages, model=\"gpt-3.5-turbo\", max_tokens=400\n",
    ")\n",
    "\n",
    "print(response.choices[0].message.content)"
   ]
  },
  {
   "cell_type": "code",
   "execution_count": null,
   "id": "e315f85a",
   "metadata": {},
   "outputs": [],
   "source": [
    "def get_playlist(prompt, count=8):\n",
    "    example_json = \"\"\"\n",
    "    [\n",
    "      {\"song\": \"Everybody Hurts\", \"artist\": \"R.E.M.\"},\n",
    "      {\"song\": \"Nothing Compares 2 U\", \"artist\": \"Sinead O'Connor\"},\n",
    "      {\"song\": \"Tears in Heaven\", \"artist\": \"Eric Clapton\"},\n",
    "      {\"song\": \"Hurt\", \"artist\": \"Johnny Cash\"},\n",
    "      {\"song\": \"Yesterday\", \"artist\": \"The Beatles\"}\n",
    "    ]\n",
    "    \"\"\"\n",
    "    messages = [\n",
    "        {\n",
    "            \"role\": \"system\",\n",
    "            \"content\": \"\"\"You are a helpful playlist generating assistant.\n",
    "        You should generate a list of songs and their artists according to a text prompt.\n",
    "        Your should return a JSON array, where each element follows this format: {\"song\": <song_title>, \"artist\": <artist_name>}\n",
    "        \"\"\",\n",
    "        },\n",
    "        {\n",
    "            \"role\": \"user\",\n",
    "            \"content\": \"Generate a playlist of 5 songs based on this prompt: super super sad songs\",\n",
    "        },\n",
    "        {\"role\": \"assistant\", \"content\": example_json},\n",
    "        {\n",
    "            \"role\": \"user\",\n",
    "            \"content\": f\"Generate a playlist of {count} songs based on this prompt: {prompt}\",\n",
    "        },\n",
    "    ]\n",
    "\n",
    "    response = openai.chat.completions.create(\n",
    "        messages=messages, model=\"gpt-4\", max_tokens=400\n",
    "    )\n",
    "\n",
    "    playlist = json.loads(response.choices[0].message.content)\n",
    "    print(playlist)"
   ]
  },
  {
   "cell_type": "code",
   "execution_count": null,
   "id": "126c779f",
   "metadata": {},
   "outputs": [],
   "source": [
    "get_playlist(\"instrumental hurdy gurdy music\", 3)"
   ]
  }
 ],
 "metadata": {
  "kernelspec": {
   "display_name": "Python 3 (ipykernel)",
   "language": "python",
   "name": "python3"
  },
  "language_info": {
   "codemirror_mode": {
    "name": "ipython",
    "version": 3
   },
   "file_extension": ".py",
   "mimetype": "text/x-python",
   "name": "python",
   "nbconvert_exporter": "python",
   "pygments_lexer": "ipython3",
   "version": "3.11.5"
  }
 },
 "nbformat": 4,
 "nbformat_minor": 5
}
